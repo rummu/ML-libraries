{
 "cells": [
  {
   "cell_type": "code",
   "execution_count": 1,
   "id": "54545fb9",
   "metadata": {},
   "outputs": [
    {
     "name": "stderr",
     "output_type": "stream",
     "text": [
      "[nltk_data] Downloading package punkt to\n",
      "[nltk_data]     C:\\Users\\rumma\\AppData\\Roaming\\nltk_data...\n",
      "[nltk_data]   Package punkt is already up-to-date!\n"
     ]
    },
    {
     "data": {
      "text/plain": [
       "True"
      ]
     },
     "execution_count": 1,
     "metadata": {},
     "output_type": "execute_result"
    }
   ],
   "source": [
    "import nltk\n",
    "nltk.download('punkt')"
   ]
  },
  {
   "cell_type": "code",
   "execution_count": 2,
   "id": "0cd54ee4",
   "metadata": {},
   "outputs": [
    {
     "name": "stderr",
     "output_type": "stream",
     "text": [
      "[nltk_data] Downloading package averaged_perceptron_tagger to\n",
      "[nltk_data]     C:\\Users\\rumma\\AppData\\Roaming\\nltk_data...\n",
      "[nltk_data]   Package averaged_perceptron_tagger is already up-to-\n",
      "[nltk_data]       date!\n"
     ]
    },
    {
     "data": {
      "text/plain": [
       "True"
      ]
     },
     "execution_count": 2,
     "metadata": {},
     "output_type": "execute_result"
    }
   ],
   "source": [
    "nltk.download('averaged_perceptron_tagger')"
   ]
  },
  {
   "cell_type": "code",
   "execution_count": 3,
   "id": "cf6c5ec4",
   "metadata": {},
   "outputs": [],
   "source": [
    "text=\"\"\"Data science is the study of the extraction of knowledge from data. It uses various techniques from many fields, including signal processing, mathematics, probability, machine learning, computer programming, statistics, data engineering, pattern matching, and data visualization, with the goal of extracting useful knowledge from the data. With computer systems able to handle more data, big data is an important aspect of data science.\n",
    "\n",
    "A person that does data science is called a data scientist. Data scientists solve complicated data problems using mathematics, statistics and computer science, although very good skill in these subjects are not required.[1] However, a data scientist is most likely to be an expert in only one or two of these disciplines, meaning that cross disciplinary teams can be a key component of data science.\n",
    "\n",
    "Good data scientists are able to apply their skills to achieve many kinds of purposes. Their skills and competencies vary widely.\"\"\""
   ]
  },
  {
   "cell_type": "code",
   "execution_count": 4,
   "id": "f8043df8",
   "metadata": {},
   "outputs": [
    {
     "name": "stdout",
     "output_type": "stream",
     "text": [
      "['Data science is the study of the extraction of knowledge from data', ' It uses various techniques from many fields, including signal processing, mathematics, probability, machine learning, computer programming, statistics, data engineering, pattern matching, and data visualization, with the goal of extracting useful knowledge from the data', ' With computer systems able to handle more data, big data is an important aspect of data science', '\\n\\nA person that does data science is called a data scientist', ' Data scientists solve complicated data problems using mathematics, statistics and computer science, although very good skill in these subjects are not required', '[1] However, a data scientist is most likely to be an expert in only one or two of these disciplines, meaning that cross disciplinary teams can be a key component of data science', '\\n\\nGood data scientists are able to apply their skills to achieve many kinds of purposes', ' Their skills and competencies vary widely']\n"
     ]
    }
   ],
   "source": [
    "str=\"\"  #separate from commas method-1\n",
    "l=[]\n",
    "for i in text:\n",
    "    if i!= '.': \n",
    "        str = str+i\n",
    "    else:\n",
    "        l.append(str)\n",
    "        str=\"\"\n",
    "print(l)\n",
    "\n"
   ]
  },
  {
   "cell_type": "code",
   "execution_count": 5,
   "id": "516afd97",
   "metadata": {},
   "outputs": [
    {
     "data": {
      "text/plain": [
       "['Data science is the study of the extraction of knowledge from data.',\n",
       " 'It uses various techniques from many fields, including signal processing, mathematics, probability, machine learning, computer programming, statistics, data engineering, pattern matching, and data visualization, with the goal of extracting useful knowledge from the data.',\n",
       " 'With computer systems able to handle more data, big data is an important aspect of data science.',\n",
       " 'A person that does data science is called a data scientist.',\n",
       " 'Data scientists solve complicated data problems using mathematics, statistics and computer science, although very good skill in these subjects are not required.',\n",
       " '[1] However, a data scientist is most likely to be an expert in only one or two of these disciplines, meaning that cross disciplinary teams can be a key component of data science.',\n",
       " 'Good data scientists are able to apply their skills to achieve many kinds of purposes.',\n",
       " 'Their skills and competencies vary widely.']"
      ]
     },
     "execution_count": 5,
     "metadata": {},
     "output_type": "execute_result"
    }
   ],
   "source": [
    "#method-2\n",
    "nltk.sent_tokenize(text)"
   ]
  },
  {
   "cell_type": "code",
   "execution_count": 6,
   "id": "b8da1d41",
   "metadata": {},
   "outputs": [
    {
     "data": {
      "text/plain": [
       "'Data science is the study of the extraction of knowledge from data.'"
      ]
     },
     "execution_count": 6,
     "metadata": {},
     "output_type": "execute_result"
    }
   ],
   "source": [
    "nltk.sent_tokenize(text)[0]"
   ]
  },
  {
   "cell_type": "code",
   "execution_count": 7,
   "id": "af8291b2",
   "metadata": {},
   "outputs": [
    {
     "data": {
      "text/plain": [
       "'It uses various techniques from many fields, including signal processing, mathematics, probability, machine learning, computer programming, statistics, data engineering, pattern matching, and data visualization, with the goal of extracting useful knowledge from the data.'"
      ]
     },
     "execution_count": 7,
     "metadata": {},
     "output_type": "execute_result"
    }
   ],
   "source": [
    "nltk.sent_tokenize(text)[1]"
   ]
  },
  {
   "cell_type": "code",
   "execution_count": 8,
   "id": "86b4a60c",
   "metadata": {},
   "outputs": [
    {
     "data": {
      "text/plain": [
       "'With computer systems able to handle more data, big data is an important aspect of data science.'"
      ]
     },
     "execution_count": 8,
     "metadata": {},
     "output_type": "execute_result"
    }
   ],
   "source": [
    "nltk.sent_tokenize(text)[2]"
   ]
  },
  {
   "cell_type": "code",
   "execution_count": null,
   "id": "4e865693",
   "metadata": {},
   "outputs": [],
   "source": []
  },
  {
   "cell_type": "code",
   "execution_count": null,
   "id": "24fa624a",
   "metadata": {},
   "outputs": [],
   "source": []
  },
  {
   "cell_type": "code",
   "execution_count": 9,
   "id": "b7be0417",
   "metadata": {},
   "outputs": [],
   "source": [
    "#create a program to separate the sentences where there is a space"
   ]
  },
  {
   "cell_type": "code",
   "execution_count": 10,
   "id": "707a6fc5",
   "metadata": {},
   "outputs": [
    {
     "name": "stdout",
     "output_type": "stream",
     "text": [
      "['Data', 'science', 'is', 'the', 'study', 'of', 'the', 'extraction', 'of', 'knowledge', 'from', 'data.', 'It', 'uses', 'various', 'techniques', 'from', 'many', 'fields,', 'including', 'signal', 'processing,', 'mathematics,', 'probability,', 'machine', 'learning,', 'computer', 'programming,', 'statistics,', 'data', 'engineering,', 'pattern', 'matching,', 'and', 'data', 'visualization,', 'with', 'the', 'goal', 'of', 'extracting', 'useful', 'knowledge', 'from', 'the', 'data.', 'With', 'computer', 'systems', 'able', 'to', 'handle', 'more', 'data,', 'big', 'data', 'is', 'an', 'important', 'aspect', 'of', 'data', 'science.\\n\\nA', 'person', 'that', 'does', 'data', 'science', 'is', 'called', 'a', 'data', 'scientist.', 'Data', 'scientists', 'solve', 'complicated', 'data', 'problems', 'using', 'mathematics,', 'statistics', 'and', 'computer', 'science,', 'although', 'very', 'good', 'skill', 'in', 'these', 'subjects', 'are', 'not', 'required.[1]', 'However,', 'a', 'data', 'scientist', 'is', 'most', 'likely', 'to', 'be', 'an', 'expert', 'in', 'only', 'one', 'or', 'two', 'of', 'these', 'disciplines,', 'meaning', 'that', 'cross', 'disciplinary', 'teams', 'can', 'be', 'a', 'key', 'component', 'of', 'data', 'science.\\n\\nGood', 'data', 'scientists', 'are', 'able', 'to', 'apply', 'their', 'skills', 'to', 'achieve', 'many', 'kinds', 'of', 'purposes.', 'Their', 'skills', 'and', 'competencies', 'vary']\n"
     ]
    }
   ],
   "source": [
    "str=\"\"   #method-1 using library\n",
    "l=[]\n",
    "for i in text:\n",
    "    if i!=\" \":\n",
    "        str=str+i\n",
    "    else:\n",
    "        l.append(str)\n",
    "        str=\"\"\n",
    "print(l)"
   ]
  },
  {
   "cell_type": "code",
   "execution_count": 11,
   "id": "e35420d9",
   "metadata": {},
   "outputs": [
    {
     "data": {
      "text/plain": [
       "['Data',\n",
       " 'science',\n",
       " 'is',\n",
       " 'the',\n",
       " 'study',\n",
       " 'of',\n",
       " 'the',\n",
       " 'extraction',\n",
       " 'of',\n",
       " 'knowledge',\n",
       " 'from',\n",
       " 'data',\n",
       " '.',\n",
       " 'It',\n",
       " 'uses',\n",
       " 'various',\n",
       " 'techniques',\n",
       " 'from',\n",
       " 'many',\n",
       " 'fields',\n",
       " ',',\n",
       " 'including',\n",
       " 'signal',\n",
       " 'processing',\n",
       " ',',\n",
       " 'mathematics',\n",
       " ',',\n",
       " 'probability',\n",
       " ',',\n",
       " 'machine',\n",
       " 'learning',\n",
       " ',',\n",
       " 'computer',\n",
       " 'programming',\n",
       " ',',\n",
       " 'statistics',\n",
       " ',',\n",
       " 'data',\n",
       " 'engineering',\n",
       " ',',\n",
       " 'pattern',\n",
       " 'matching',\n",
       " ',',\n",
       " 'and',\n",
       " 'data',\n",
       " 'visualization',\n",
       " ',',\n",
       " 'with',\n",
       " 'the',\n",
       " 'goal',\n",
       " 'of',\n",
       " 'extracting',\n",
       " 'useful',\n",
       " 'knowledge',\n",
       " 'from',\n",
       " 'the',\n",
       " 'data',\n",
       " '.',\n",
       " 'With',\n",
       " 'computer',\n",
       " 'systems',\n",
       " 'able',\n",
       " 'to',\n",
       " 'handle',\n",
       " 'more',\n",
       " 'data',\n",
       " ',',\n",
       " 'big',\n",
       " 'data',\n",
       " 'is',\n",
       " 'an',\n",
       " 'important',\n",
       " 'aspect',\n",
       " 'of',\n",
       " 'data',\n",
       " 'science',\n",
       " '.',\n",
       " 'A',\n",
       " 'person',\n",
       " 'that',\n",
       " 'does',\n",
       " 'data',\n",
       " 'science',\n",
       " 'is',\n",
       " 'called',\n",
       " 'a',\n",
       " 'data',\n",
       " 'scientist',\n",
       " '.',\n",
       " 'Data',\n",
       " 'scientists',\n",
       " 'solve',\n",
       " 'complicated',\n",
       " 'data',\n",
       " 'problems',\n",
       " 'using',\n",
       " 'mathematics',\n",
       " ',',\n",
       " 'statistics',\n",
       " 'and',\n",
       " 'computer',\n",
       " 'science',\n",
       " ',',\n",
       " 'although',\n",
       " 'very',\n",
       " 'good',\n",
       " 'skill',\n",
       " 'in',\n",
       " 'these',\n",
       " 'subjects',\n",
       " 'are',\n",
       " 'not',\n",
       " 'required',\n",
       " '.',\n",
       " '[',\n",
       " '1',\n",
       " ']',\n",
       " 'However',\n",
       " ',',\n",
       " 'a',\n",
       " 'data',\n",
       " 'scientist',\n",
       " 'is',\n",
       " 'most',\n",
       " 'likely',\n",
       " 'to',\n",
       " 'be',\n",
       " 'an',\n",
       " 'expert',\n",
       " 'in',\n",
       " 'only',\n",
       " 'one',\n",
       " 'or',\n",
       " 'two',\n",
       " 'of',\n",
       " 'these',\n",
       " 'disciplines',\n",
       " ',',\n",
       " 'meaning',\n",
       " 'that',\n",
       " 'cross',\n",
       " 'disciplinary',\n",
       " 'teams',\n",
       " 'can',\n",
       " 'be',\n",
       " 'a',\n",
       " 'key',\n",
       " 'component',\n",
       " 'of',\n",
       " 'data',\n",
       " 'science',\n",
       " '.',\n",
       " 'Good',\n",
       " 'data',\n",
       " 'scientists',\n",
       " 'are',\n",
       " 'able',\n",
       " 'to',\n",
       " 'apply',\n",
       " 'their',\n",
       " 'skills',\n",
       " 'to',\n",
       " 'achieve',\n",
       " 'many',\n",
       " 'kinds',\n",
       " 'of',\n",
       " 'purposes',\n",
       " '.',\n",
       " 'Their',\n",
       " 'skills',\n",
       " 'and',\n",
       " 'competencies',\n",
       " 'vary',\n",
       " 'widely',\n",
       " '.']"
      ]
     },
     "execution_count": 11,
     "metadata": {},
     "output_type": "execute_result"
    }
   ],
   "source": [
    "nltk.word_tokenize(text)  #method-2 using library"
   ]
  },
  {
   "cell_type": "code",
   "execution_count": null,
   "id": "f92f0cd8",
   "metadata": {},
   "outputs": [],
   "source": []
  },
  {
   "cell_type": "code",
   "execution_count": null,
   "id": "bade8681",
   "metadata": {},
   "outputs": [],
   "source": []
  },
  {
   "cell_type": "code",
   "execution_count": 12,
   "id": "43097725",
   "metadata": {},
   "outputs": [],
   "source": [
    "text1 = \"we are trying to test nltk lib , in ineuron class \""
   ]
  },
  {
   "cell_type": "code",
   "execution_count": 13,
   "id": "2822bf3b",
   "metadata": {},
   "outputs": [
    {
     "data": {
      "text/plain": [
       "[('w', 'NN'),\n",
       " ('e', 'NN'),\n",
       " (' ', 'VBZ'),\n",
       " ('a', 'DT'),\n",
       " ('r', 'NN'),\n",
       " ('e', 'NN'),\n",
       " (' ', 'NNP'),\n",
       " ('t', 'NN'),\n",
       " ('r', 'NN'),\n",
       " ('y', 'NN'),\n",
       " ('i', 'NN'),\n",
       " ('n', 'VBP'),\n",
       " ('g', 'NN'),\n",
       " (' ', 'NNP'),\n",
       " ('t', 'NN'),\n",
       " ('o', 'NN'),\n",
       " (' ', 'NNP'),\n",
       " ('t', 'NN'),\n",
       " ('e', 'NN'),\n",
       " ('s', 'NN'),\n",
       " ('t', 'NN'),\n",
       " (' ', 'NNP'),\n",
       " ('n', 'CC'),\n",
       " ('l', 'NN'),\n",
       " ('t', 'NN'),\n",
       " ('k', 'NN'),\n",
       " (' ', 'NNP'),\n",
       " ('l', 'NN'),\n",
       " ('i', 'NN'),\n",
       " ('b', 'VBP'),\n",
       " (' ', 'NN'),\n",
       " (',', ','),\n",
       " (' ', 'VBP'),\n",
       " ('i', 'JJ'),\n",
       " ('n', 'VBP'),\n",
       " (' ', 'NN'),\n",
       " ('i', 'NN'),\n",
       " ('n', 'VBP'),\n",
       " ('e', 'NN'),\n",
       " ('u', 'JJ'),\n",
       " ('r', 'NN'),\n",
       " ('o', 'NN'),\n",
       " ('n', 'JJ'),\n",
       " (' ', 'NNP'),\n",
       " ('c', 'NN'),\n",
       " ('l', 'NN'),\n",
       " ('a', 'DT'),\n",
       " ('s', 'JJ'),\n",
       " ('s', 'NN'),\n",
       " (' ', 'NN')]"
      ]
     },
     "execution_count": 13,
     "metadata": {},
     "output_type": "execute_result"
    }
   ],
   "source": [
    "nltk.pos_tag(list(text1))"
   ]
  },
  {
   "cell_type": "code",
   "execution_count": 14,
   "id": "096a6e69",
   "metadata": {},
   "outputs": [
    {
     "data": {
      "text/plain": [
       "[('we', 'PRP'),\n",
       " ('are', 'VBP'),\n",
       " ('trying', 'VBG'),\n",
       " ('to', 'TO'),\n",
       " ('test', 'VB'),\n",
       " ('nltk', 'JJ'),\n",
       " ('lib', 'NN'),\n",
       " (',', ','),\n",
       " ('in', 'IN'),\n",
       " ('ineuron', 'NN'),\n",
       " ('class', 'NN')]"
      ]
     },
     "execution_count": 14,
     "metadata": {},
     "output_type": "execute_result"
    }
   ],
   "source": [
    "nltk.pos_tag(list(nltk.word_tokenize(text1)))    #check definition on google search pos nltk"
   ]
  },
  {
   "cell_type": "code",
   "execution_count": null,
   "id": "2d8c4476",
   "metadata": {},
   "outputs": [],
   "source": []
  },
  {
   "cell_type": "code",
   "execution_count": null,
   "id": "ba3c1324",
   "metadata": {},
   "outputs": [],
   "source": []
  },
  {
   "cell_type": "code",
   "execution_count": 15,
   "id": "39df442e",
   "metadata": {},
   "outputs": [
    {
     "name": "stderr",
     "output_type": "stream",
     "text": [
      "[nltk_data] Downloading package stopwords to\n",
      "[nltk_data]     C:\\Users\\rumma\\AppData\\Roaming\\nltk_data...\n",
      "[nltk_data]   Package stopwords is already up-to-date!\n"
     ]
    },
    {
     "data": {
      "text/plain": [
       "True"
      ]
     },
     "execution_count": 15,
     "metadata": {},
     "output_type": "execute_result"
    }
   ],
   "source": [
    "nltk.download('stopwords')"
   ]
  },
  {
   "cell_type": "code",
   "execution_count": 31,
   "id": "ea38c980",
   "metadata": {},
   "outputs": [
    {
     "data": {
      "text/plain": [
       "['i',\n",
       " 'me',\n",
       " 'my',\n",
       " 'myself',\n",
       " 'we',\n",
       " 'our',\n",
       " 'ours',\n",
       " 'ourselves',\n",
       " 'you',\n",
       " \"you're\",\n",
       " \"you've\",\n",
       " \"you'll\",\n",
       " \"you'd\",\n",
       " 'your',\n",
       " 'yours',\n",
       " 'yourself',\n",
       " 'yourselves',\n",
       " 'he',\n",
       " 'him',\n",
       " 'his',\n",
       " 'himself',\n",
       " 'she',\n",
       " \"she's\",\n",
       " 'her',\n",
       " 'hers',\n",
       " 'herself',\n",
       " 'it',\n",
       " \"it's\",\n",
       " 'its',\n",
       " 'itself',\n",
       " 'they',\n",
       " 'them',\n",
       " 'their',\n",
       " 'theirs',\n",
       " 'themselves',\n",
       " 'what',\n",
       " 'which',\n",
       " 'who',\n",
       " 'whom',\n",
       " 'this',\n",
       " 'that',\n",
       " \"that'll\",\n",
       " 'these',\n",
       " 'those',\n",
       " 'am',\n",
       " 'is',\n",
       " 'are',\n",
       " 'was',\n",
       " 'were',\n",
       " 'be',\n",
       " 'been',\n",
       " 'being',\n",
       " 'have',\n",
       " 'has',\n",
       " 'had',\n",
       " 'having',\n",
       " 'do',\n",
       " 'does',\n",
       " 'did',\n",
       " 'doing',\n",
       " 'a',\n",
       " 'an',\n",
       " 'the',\n",
       " 'and',\n",
       " 'but',\n",
       " 'if',\n",
       " 'or',\n",
       " 'because',\n",
       " 'as',\n",
       " 'until',\n",
       " 'while',\n",
       " 'of',\n",
       " 'at',\n",
       " 'by',\n",
       " 'for',\n",
       " 'with',\n",
       " 'about',\n",
       " 'against',\n",
       " 'between',\n",
       " 'into',\n",
       " 'through',\n",
       " 'during',\n",
       " 'before',\n",
       " 'after',\n",
       " 'above',\n",
       " 'below',\n",
       " 'to',\n",
       " 'from',\n",
       " 'up',\n",
       " 'down',\n",
       " 'in',\n",
       " 'out',\n",
       " 'on',\n",
       " 'off',\n",
       " 'over',\n",
       " 'under',\n",
       " 'again',\n",
       " 'further',\n",
       " 'then',\n",
       " 'once',\n",
       " 'here',\n",
       " 'there',\n",
       " 'when',\n",
       " 'where',\n",
       " 'why',\n",
       " 'how',\n",
       " 'all',\n",
       " 'any',\n",
       " 'both',\n",
       " 'each',\n",
       " 'few',\n",
       " 'more',\n",
       " 'most',\n",
       " 'other',\n",
       " 'some',\n",
       " 'such',\n",
       " 'no',\n",
       " 'nor',\n",
       " 'not',\n",
       " 'only',\n",
       " 'own',\n",
       " 'same',\n",
       " 'so',\n",
       " 'than',\n",
       " 'too',\n",
       " 'very',\n",
       " 's',\n",
       " 't',\n",
       " 'can',\n",
       " 'will',\n",
       " 'just',\n",
       " 'don',\n",
       " \"don't\",\n",
       " 'should',\n",
       " \"should've\",\n",
       " 'now',\n",
       " 'd',\n",
       " 'll',\n",
       " 'm',\n",
       " 'o',\n",
       " 're',\n",
       " 've',\n",
       " 'y',\n",
       " 'ain',\n",
       " 'aren',\n",
       " \"aren't\",\n",
       " 'couldn',\n",
       " \"couldn't\",\n",
       " 'didn',\n",
       " \"didn't\",\n",
       " 'doesn',\n",
       " \"doesn't\",\n",
       " 'hadn',\n",
       " \"hadn't\",\n",
       " 'hasn',\n",
       " \"hasn't\",\n",
       " 'haven',\n",
       " \"haven't\",\n",
       " 'isn',\n",
       " \"isn't\",\n",
       " 'ma',\n",
       " 'mightn',\n",
       " \"mightn't\",\n",
       " 'mustn',\n",
       " \"mustn't\",\n",
       " 'needn',\n",
       " \"needn't\",\n",
       " 'shan',\n",
       " \"shan't\",\n",
       " 'shouldn',\n",
       " \"shouldn't\",\n",
       " 'wasn',\n",
       " \"wasn't\",\n",
       " 'weren',\n",
       " \"weren't\",\n",
       " 'won',\n",
       " \"won't\",\n",
       " 'wouldn',\n",
       " \"wouldn't\"]"
      ]
     },
     "execution_count": 31,
     "metadata": {},
     "output_type": "execute_result"
    }
   ],
   "source": [
    "from nltk.corpus import stopwords\n",
    "stopwords.words('english')"
   ]
  },
  {
   "cell_type": "code",
   "execution_count": 17,
   "id": "a19ec4e6",
   "metadata": {},
   "outputs": [
    {
     "name": "stderr",
     "output_type": "stream",
     "text": [
      "[nltk_data] Downloading package indian to\n",
      "[nltk_data]     C:\\Users\\rumma\\AppData\\Roaming\\nltk_data...\n",
      "[nltk_data]   Package indian is already up-to-date!\n"
     ]
    },
    {
     "data": {
      "text/plain": [
       "True"
      ]
     },
     "execution_count": 17,
     "metadata": {},
     "output_type": "execute_result"
    }
   ],
   "source": [
    "nltk.download('indian')"
   ]
  },
  {
   "cell_type": "code",
   "execution_count": 18,
   "id": "d77c6fe7",
   "metadata": {},
   "outputs": [
    {
     "data": {
      "text/plain": [
       "['पूर्ण', 'प्रतिबंध', 'हटाओ', ':', 'इराक', 'संयुक्त', ...]"
      ]
     },
     "execution_count": 18,
     "metadata": {},
     "output_type": "execute_result"
    }
   ],
   "source": [
    "from nltk.corpus import stopwords  #indian stopwords\n",
    "nltk.corpus.indian.words('hindi.pos')"
   ]
  },
  {
   "cell_type": "code",
   "execution_count": null,
   "id": "64a60534",
   "metadata": {},
   "outputs": [],
   "source": []
  },
  {
   "cell_type": "code",
   "execution_count": 19,
   "id": "5fb7fd56",
   "metadata": {},
   "outputs": [
    {
     "data": {
      "text/plain": [
       "'!\"#$%&\\'()*+,-./:;<=>?@[\\\\]^_`{|}~'"
      ]
     },
     "execution_count": 19,
     "metadata": {},
     "output_type": "execute_result"
    }
   ],
   "source": [
    "import string\n",
    "string.punctuation"
   ]
  },
  {
   "cell_type": "code",
   "execution_count": null,
   "id": "d10299ba",
   "metadata": {},
   "outputs": [],
   "source": []
  },
  {
   "cell_type": "code",
   "execution_count": null,
   "id": "c132d291",
   "metadata": {},
   "outputs": [],
   "source": []
  },
  {
   "cell_type": "code",
   "execution_count": null,
   "id": "e155468b",
   "metadata": {},
   "outputs": [],
   "source": []
  },
  {
   "cell_type": "code",
   "execution_count": 20,
   "id": "bd052145",
   "metadata": {},
   "outputs": [
    {
     "data": {
      "text/plain": [
       "'Data science is the study of the extraction of knowledge from data. It uses various techniques from many fields, including signal processing, mathematics, probability, machine learning, computer programming, statistics, data engineering, pattern matching, and data visualization, with the goal of extracting useful knowledge from the data. With computer systems able to handle more data, big data is an important aspect of data science.\\n\\nA person that does data science is called a data scientist. Data scientists solve complicated data problems using mathematics, statistics and computer science, although very good skill in these subjects are not required.[1] However, a data scientist is most likely to be an expert in only one or two of these disciplines, meaning that cross disciplinary teams can be a key component of data science.\\n\\nGood data scientists are able to apply their skills to achieve many kinds of purposes. Their skills and competencies vary widely.'"
      ]
     },
     "execution_count": 20,
     "metadata": {},
     "output_type": "execute_result"
    }
   ],
   "source": [
    "text"
   ]
  },
  {
   "cell_type": "code",
   "execution_count": 21,
   "id": "050b23da",
   "metadata": {},
   "outputs": [],
   "source": [
    "#remove the stopwords and punctuations"
   ]
  },
  {
   "cell_type": "code",
   "execution_count": 24,
   "id": "69a58e19",
   "metadata": {},
   "outputs": [
    {
     "data": {
      "text/plain": [
       "['Data',\n",
       " 'science',\n",
       " 'is',\n",
       " 'the',\n",
       " 'study',\n",
       " 'of',\n",
       " 'the',\n",
       " 'extraction',\n",
       " 'of',\n",
       " 'knowledge',\n",
       " 'from',\n",
       " 'data',\n",
       " '.',\n",
       " 'It',\n",
       " 'uses',\n",
       " 'various',\n",
       " 'techniques',\n",
       " 'from',\n",
       " 'many',\n",
       " 'fields',\n",
       " ',',\n",
       " 'including',\n",
       " 'signal',\n",
       " 'processing',\n",
       " ',',\n",
       " 'mathematics',\n",
       " ',',\n",
       " 'probability',\n",
       " ',',\n",
       " 'machine',\n",
       " 'learning',\n",
       " ',',\n",
       " 'computer',\n",
       " 'programming',\n",
       " ',',\n",
       " 'statistics',\n",
       " ',',\n",
       " 'data',\n",
       " 'engineering',\n",
       " ',',\n",
       " 'pattern',\n",
       " 'matching',\n",
       " ',',\n",
       " 'and',\n",
       " 'data',\n",
       " 'visualization',\n",
       " ',',\n",
       " 'with',\n",
       " 'the',\n",
       " 'goal',\n",
       " 'of',\n",
       " 'extracting',\n",
       " 'useful',\n",
       " 'knowledge',\n",
       " 'from',\n",
       " 'the',\n",
       " 'data',\n",
       " '.',\n",
       " 'With',\n",
       " 'computer',\n",
       " 'systems',\n",
       " 'able',\n",
       " 'to',\n",
       " 'handle',\n",
       " 'more',\n",
       " 'data',\n",
       " ',',\n",
       " 'big',\n",
       " 'data',\n",
       " 'is',\n",
       " 'an',\n",
       " 'important',\n",
       " 'aspect',\n",
       " 'of',\n",
       " 'data',\n",
       " 'science',\n",
       " '.',\n",
       " 'A',\n",
       " 'person',\n",
       " 'that',\n",
       " 'does',\n",
       " 'data',\n",
       " 'science',\n",
       " 'is',\n",
       " 'called',\n",
       " 'a',\n",
       " 'data',\n",
       " 'scientist',\n",
       " '.',\n",
       " 'Data',\n",
       " 'scientists',\n",
       " 'solve',\n",
       " 'complicated',\n",
       " 'data',\n",
       " 'problems',\n",
       " 'using',\n",
       " 'mathematics',\n",
       " ',',\n",
       " 'statistics',\n",
       " 'and',\n",
       " 'computer',\n",
       " 'science',\n",
       " ',',\n",
       " 'although',\n",
       " 'very',\n",
       " 'good',\n",
       " 'skill',\n",
       " 'in',\n",
       " 'these',\n",
       " 'subjects',\n",
       " 'are',\n",
       " 'not',\n",
       " 'required',\n",
       " '.',\n",
       " '[',\n",
       " '1',\n",
       " ']',\n",
       " 'However',\n",
       " ',',\n",
       " 'a',\n",
       " 'data',\n",
       " 'scientist',\n",
       " 'is',\n",
       " 'most',\n",
       " 'likely',\n",
       " 'to',\n",
       " 'be',\n",
       " 'an',\n",
       " 'expert',\n",
       " 'in',\n",
       " 'only',\n",
       " 'one',\n",
       " 'or',\n",
       " 'two',\n",
       " 'of',\n",
       " 'these',\n",
       " 'disciplines',\n",
       " ',',\n",
       " 'meaning',\n",
       " 'that',\n",
       " 'cross',\n",
       " 'disciplinary',\n",
       " 'teams',\n",
       " 'can',\n",
       " 'be',\n",
       " 'a',\n",
       " 'key',\n",
       " 'component',\n",
       " 'of',\n",
       " 'data',\n",
       " 'science',\n",
       " '.',\n",
       " 'Good',\n",
       " 'data',\n",
       " 'scientists',\n",
       " 'are',\n",
       " 'able',\n",
       " 'to',\n",
       " 'apply',\n",
       " 'their',\n",
       " 'skills',\n",
       " 'to',\n",
       " 'achieve',\n",
       " 'many',\n",
       " 'kinds',\n",
       " 'of',\n",
       " 'purposes',\n",
       " '.',\n",
       " 'Their',\n",
       " 'skills',\n",
       " 'and',\n",
       " 'competencies',\n",
       " 'vary',\n",
       " 'widely',\n",
       " '.']"
      ]
     },
     "execution_count": 24,
     "metadata": {},
     "output_type": "execute_result"
    }
   ],
   "source": [
    "nltk.word_tokenize(text)"
   ]
  },
  {
   "cell_type": "code",
   "execution_count": 37,
   "id": "f0f62722",
   "metadata": {},
   "outputs": [
    {
     "name": "stdout",
     "output_type": "stream",
     "text": [
      "['Data', 'science', 'is', 'the', 'study', 'of', 'the', 'extraction', 'of', 'knowledge', 'from', 'data', 'It', 'uses', 'various', 'techniques', 'from', 'many', 'fields', 'including', 'signal', 'processing', 'mathematics', 'probability', 'machine', 'learning', 'computer', 'programming', 'statistics', 'data', 'engineering', 'pattern', 'matching', 'and', 'data', 'visualization', 'with', 'the', 'goal', 'of', 'extracting', 'useful', 'knowledge', 'from', 'the', 'data', 'With', 'computer', 'systems', 'able', 'to', 'handle', 'more', 'data', 'big', 'data', 'is', 'an', 'important', 'aspect', 'of', 'data', 'science', 'A', 'person', 'that', 'does', 'data', 'science', 'is', 'called', 'a', 'data', 'scientist', 'Data', 'scientists', 'solve', 'complicated', 'data', 'problems', 'using', 'mathematics', 'statistics', 'and', 'computer', 'science', 'although', 'very', 'good', 'skill', 'in', 'these', 'subjects', 'are', 'not', 'required', '1', 'However', 'a', 'data', 'scientist', 'is', 'most', 'likely', 'to', 'be', 'an', 'expert', 'in', 'only', 'one', 'or', 'two', 'of', 'these', 'disciplines', 'meaning', 'that', 'cross', 'disciplinary', 'teams', 'can', 'be', 'a', 'key', 'component', 'of', 'data', 'science', 'Good', 'data', 'scientists', 'are', 'able', 'to', 'apply', 'their', 'skills', 'to', 'achieve', 'many', 'kinds', 'of', 'purposes', 'Their', 'skills', 'and', 'competencies', 'vary', 'widely']\n"
     ]
    }
   ],
   "source": [
    "l=[]       #method-1\n",
    "for i in nltk.word_tokenize(text):\n",
    "    for j in stopwords.words('english'):\n",
    "        if  i!=j:\n",
    "            if i not in string.punctuation:\n",
    "                l.append(i)\n",
    "                break\n",
    "print(l)"
   ]
  },
  {
   "cell_type": "code",
   "execution_count": 35,
   "id": "29897441",
   "metadata": {},
   "outputs": [
    {
     "data": {
      "text/plain": [
       "['Data',\n",
       " 'science',\n",
       " 'study',\n",
       " 'extraction',\n",
       " 'knowledge',\n",
       " 'data',\n",
       " 'It',\n",
       " 'uses',\n",
       " 'various',\n",
       " 'techniques',\n",
       " 'many',\n",
       " 'fields',\n",
       " 'including',\n",
       " 'signal',\n",
       " 'processing',\n",
       " 'mathematics',\n",
       " 'probability',\n",
       " 'machine',\n",
       " 'learning',\n",
       " 'computer',\n",
       " 'programming',\n",
       " 'statistics',\n",
       " 'data',\n",
       " 'engineering',\n",
       " 'pattern',\n",
       " 'matching',\n",
       " 'data',\n",
       " 'visualization',\n",
       " 'goal',\n",
       " 'extracting',\n",
       " 'useful',\n",
       " 'knowledge',\n",
       " 'data',\n",
       " 'With',\n",
       " 'computer',\n",
       " 'systems',\n",
       " 'able',\n",
       " 'handle',\n",
       " 'data',\n",
       " 'big',\n",
       " 'data',\n",
       " 'important',\n",
       " 'aspect',\n",
       " 'data',\n",
       " 'science',\n",
       " 'A',\n",
       " 'person',\n",
       " 'data',\n",
       " 'science',\n",
       " 'called',\n",
       " 'data',\n",
       " 'scientist',\n",
       " 'Data',\n",
       " 'scientists',\n",
       " 'solve',\n",
       " 'complicated',\n",
       " 'data',\n",
       " 'problems',\n",
       " 'using',\n",
       " 'mathematics',\n",
       " 'statistics',\n",
       " 'computer',\n",
       " 'science',\n",
       " 'although',\n",
       " 'good',\n",
       " 'skill',\n",
       " 'subjects',\n",
       " 'required',\n",
       " '1',\n",
       " 'However',\n",
       " 'data',\n",
       " 'scientist',\n",
       " 'likely',\n",
       " 'expert',\n",
       " 'one',\n",
       " 'two',\n",
       " 'disciplines',\n",
       " 'meaning',\n",
       " 'cross',\n",
       " 'disciplinary',\n",
       " 'teams',\n",
       " 'key',\n",
       " 'component',\n",
       " 'data',\n",
       " 'science',\n",
       " 'Good',\n",
       " 'data',\n",
       " 'scientists',\n",
       " 'able',\n",
       " 'apply',\n",
       " 'skills',\n",
       " 'achieve',\n",
       " 'many',\n",
       " 'kinds',\n",
       " 'purposes',\n",
       " 'Their',\n",
       " 'skills',\n",
       " 'competencies',\n",
       " 'vary',\n",
       " 'widely']"
      ]
     },
     "execution_count": 35,
     "metadata": {},
     "output_type": "execute_result"
    }
   ],
   "source": [
    "#method-2\n",
    "l=[]\n",
    "for word in nltk.word_tokenize(text):\n",
    "    if word not in string.punctuation:\n",
    "        if word not in stopwords.words('english'):\n",
    "            l.append(word)\n",
    "l"
   ]
  },
  {
   "cell_type": "code",
   "execution_count": null,
   "id": "c22051d8",
   "metadata": {},
   "outputs": [],
   "source": []
  },
  {
   "cell_type": "code",
   "execution_count": 38,
   "id": "0810e791",
   "metadata": {},
   "outputs": [
    {
     "data": {
      "text/plain": [
       "[('Data', 'NNP'),\n",
       " ('science', 'NN'),\n",
       " ('is', 'VBZ'),\n",
       " ('the', 'DT'),\n",
       " ('study', 'NN'),\n",
       " ('of', 'IN'),\n",
       " ('the', 'DT'),\n",
       " ('extraction', 'NN'),\n",
       " ('of', 'IN'),\n",
       " ('knowledge', 'NN'),\n",
       " ('from', 'IN'),\n",
       " ('data', 'NNS'),\n",
       " ('It', 'PRP'),\n",
       " ('uses', 'VBZ'),\n",
       " ('various', 'JJ'),\n",
       " ('techniques', 'NNS'),\n",
       " ('from', 'IN'),\n",
       " ('many', 'JJ'),\n",
       " ('fields', 'NNS'),\n",
       " ('including', 'VBG'),\n",
       " ('signal', 'JJ'),\n",
       " ('processing', 'NN'),\n",
       " ('mathematics', 'NNS'),\n",
       " ('probability', 'NN'),\n",
       " ('machine', 'NN'),\n",
       " ('learning', 'VBG'),\n",
       " ('computer', 'NN'),\n",
       " ('programming', 'VBG'),\n",
       " ('statistics', 'NNS'),\n",
       " ('data', 'NNS'),\n",
       " ('engineering', 'NN'),\n",
       " ('pattern', 'NN'),\n",
       " ('matching', 'NN'),\n",
       " ('and', 'CC'),\n",
       " ('data', 'NNS'),\n",
       " ('visualization', 'NN'),\n",
       " ('with', 'IN'),\n",
       " ('the', 'DT'),\n",
       " ('goal', 'NN'),\n",
       " ('of', 'IN'),\n",
       " ('extracting', 'VBG'),\n",
       " ('useful', 'JJ'),\n",
       " ('knowledge', 'NN'),\n",
       " ('from', 'IN'),\n",
       " ('the', 'DT'),\n",
       " ('data', 'NN'),\n",
       " ('With', 'IN'),\n",
       " ('computer', 'NN'),\n",
       " ('systems', 'NNS'),\n",
       " ('able', 'JJ'),\n",
       " ('to', 'TO'),\n",
       " ('handle', 'VB'),\n",
       " ('more', 'JJR'),\n",
       " ('data', 'NNS'),\n",
       " ('big', 'JJ'),\n",
       " ('data', 'NN'),\n",
       " ('is', 'VBZ'),\n",
       " ('an', 'DT'),\n",
       " ('important', 'JJ'),\n",
       " ('aspect', 'NN'),\n",
       " ('of', 'IN'),\n",
       " ('data', 'NNS'),\n",
       " ('science', 'NN'),\n",
       " ('A', 'NNP'),\n",
       " ('person', 'NN'),\n",
       " ('that', 'WDT'),\n",
       " ('does', 'VBZ'),\n",
       " ('data', 'NNS'),\n",
       " ('science', 'NN'),\n",
       " ('is', 'VBZ'),\n",
       " ('called', 'VBN'),\n",
       " ('a', 'DT'),\n",
       " ('data', 'NN'),\n",
       " ('scientist', 'NN'),\n",
       " ('Data', 'NNP'),\n",
       " ('scientists', 'NNS'),\n",
       " ('solve', 'VBP'),\n",
       " ('complicated', 'VBN'),\n",
       " ('data', 'NNS'),\n",
       " ('problems', 'NNS'),\n",
       " ('using', 'VBG'),\n",
       " ('mathematics', 'NNS'),\n",
       " ('statistics', 'NNS'),\n",
       " ('and', 'CC'),\n",
       " ('computer', 'NN'),\n",
       " ('science', 'NN'),\n",
       " ('although', 'IN'),\n",
       " ('very', 'RB'),\n",
       " ('good', 'JJ'),\n",
       " ('skill', 'NN'),\n",
       " ('in', 'IN'),\n",
       " ('these', 'DT'),\n",
       " ('subjects', 'NNS'),\n",
       " ('are', 'VBP'),\n",
       " ('not', 'RB'),\n",
       " ('required', 'VBN'),\n",
       " ('1', 'CD'),\n",
       " ('However', 'RB'),\n",
       " ('a', 'DT'),\n",
       " ('data', 'NN'),\n",
       " ('scientist', 'NN'),\n",
       " ('is', 'VBZ'),\n",
       " ('most', 'RBS'),\n",
       " ('likely', 'JJ'),\n",
       " ('to', 'TO'),\n",
       " ('be', 'VB'),\n",
       " ('an', 'DT'),\n",
       " ('expert', 'NN'),\n",
       " ('in', 'IN'),\n",
       " ('only', 'RB'),\n",
       " ('one', 'CD'),\n",
       " ('or', 'CC'),\n",
       " ('two', 'CD'),\n",
       " ('of', 'IN'),\n",
       " ('these', 'DT'),\n",
       " ('disciplines', 'NNS'),\n",
       " ('meaning', 'VBG'),\n",
       " ('that', 'IN'),\n",
       " ('cross', 'NN'),\n",
       " ('disciplinary', 'JJ'),\n",
       " ('teams', 'NNS'),\n",
       " ('can', 'MD'),\n",
       " ('be', 'VB'),\n",
       " ('a', 'DT'),\n",
       " ('key', 'JJ'),\n",
       " ('component', 'NN'),\n",
       " ('of', 'IN'),\n",
       " ('data', 'NNS'),\n",
       " ('science', 'NN'),\n",
       " ('Good', 'NNP'),\n",
       " ('data', 'NN'),\n",
       " ('scientists', 'NNS'),\n",
       " ('are', 'VBP'),\n",
       " ('able', 'JJ'),\n",
       " ('to', 'TO'),\n",
       " ('apply', 'VB'),\n",
       " ('their', 'PRP$'),\n",
       " ('skills', 'NNS'),\n",
       " ('to', 'TO'),\n",
       " ('achieve', 'VB'),\n",
       " ('many', 'JJ'),\n",
       " ('kinds', 'NNS'),\n",
       " ('of', 'IN'),\n",
       " ('purposes', 'NNS'),\n",
       " ('Their', 'NNP'),\n",
       " ('skills', 'NNS'),\n",
       " ('and', 'CC'),\n",
       " ('competencies', 'NNS'),\n",
       " ('vary', 'VBP'),\n",
       " ('widely', 'RB')]"
      ]
     },
     "execution_count": 38,
     "metadata": {},
     "output_type": "execute_result"
    }
   ],
   "source": [
    "nltk.pos_tag(l) #giving parts of speech"
   ]
  },
  {
   "cell_type": "code",
   "execution_count": null,
   "id": "e09a67ac",
   "metadata": {},
   "outputs": [],
   "source": []
  },
  {
   "cell_type": "code",
   "execution_count": null,
   "id": "dd90b90b",
   "metadata": {},
   "outputs": [],
   "source": []
  },
  {
   "cell_type": "code",
   "execution_count": 39,
   "id": "6aa99122",
   "metadata": {},
   "outputs": [],
   "source": [
    "from nltk.stem import PorterStemmer"
   ]
  },
  {
   "cell_type": "code",
   "execution_count": 40,
   "id": "ab62509e",
   "metadata": {},
   "outputs": [],
   "source": [
    "from nltk.stem import LancasterStemmer , SnowballStemmer"
   ]
  },
  {
   "cell_type": "code",
   "execution_count": 42,
   "id": "94e51873",
   "metadata": {},
   "outputs": [],
   "source": [
    "porter = PorterStemmer()\n",
    "lancas = LancasterStemmer()\n",
    "snow = SnowballStemmer('english')"
   ]
  },
  {
   "cell_type": "code",
   "execution_count": null,
   "id": "c436cefd",
   "metadata": {},
   "outputs": [],
   "source": [
    "#remove ies,ing,y,ous,y"
   ]
  },
  {
   "cell_type": "code",
   "execution_count": null,
   "id": "ac5687a2",
   "metadata": {},
   "outputs": [],
   "source": [
    "#porter"
   ]
  },
  {
   "cell_type": "code",
   "execution_count": 43,
   "id": "9f688d82",
   "metadata": {},
   "outputs": [
    {
     "data": {
      "text/plain": [
       "'run'"
      ]
     },
     "execution_count": 43,
     "metadata": {},
     "output_type": "execute_result"
    }
   ],
   "source": [
    "porter.stem('running')"
   ]
  },
  {
   "cell_type": "code",
   "execution_count": 44,
   "id": "b1e381b7",
   "metadata": {},
   "outputs": [
    {
     "data": {
      "text/plain": [
       "'hobbi'"
      ]
     },
     "execution_count": 44,
     "metadata": {},
     "output_type": "execute_result"
    }
   ],
   "source": [
    "porter.stem('hobbies')"
   ]
  },
  {
   "cell_type": "code",
   "execution_count": 45,
   "id": "72de6415",
   "metadata": {},
   "outputs": [
    {
     "data": {
      "text/plain": [
       "'hobbi'"
      ]
     },
     "execution_count": 45,
     "metadata": {},
     "output_type": "execute_result"
    }
   ],
   "source": [
    "porter.stem('hobbi')"
   ]
  },
  {
   "cell_type": "code",
   "execution_count": 48,
   "id": "00d76ec3",
   "metadata": {},
   "outputs": [
    {
     "data": {
      "text/plain": [
       "'happi'"
      ]
     },
     "execution_count": 48,
     "metadata": {},
     "output_type": "execute_result"
    }
   ],
   "source": [
    "porter.stem('happy')"
   ]
  },
  {
   "cell_type": "code",
   "execution_count": 49,
   "id": "724b7d5f",
   "metadata": {},
   "outputs": [
    {
     "data": {
      "text/plain": [
       "'sung'"
      ]
     },
     "execution_count": 49,
     "metadata": {},
     "output_type": "execute_result"
    }
   ],
   "source": [
    "porter.stem('sung')"
   ]
  },
  {
   "cell_type": "code",
   "execution_count": 52,
   "id": "dcf2c263",
   "metadata": {},
   "outputs": [
    {
     "data": {
      "text/plain": [
       "'comput'"
      ]
     },
     "execution_count": 52,
     "metadata": {},
     "output_type": "execute_result"
    }
   ],
   "source": [
    "porter.stem('computer')"
   ]
  },
  {
   "cell_type": "code",
   "execution_count": 53,
   "id": "95f24848",
   "metadata": {},
   "outputs": [
    {
     "data": {
      "text/plain": [
       "'continu'"
      ]
     },
     "execution_count": 53,
     "metadata": {},
     "output_type": "execute_result"
    }
   ],
   "source": [
    "porter.stem('continuous')"
   ]
  },
  {
   "cell_type": "code",
   "execution_count": 55,
   "id": "aec13234",
   "metadata": {},
   "outputs": [
    {
     "data": {
      "text/plain": [
       "'rumman'"
      ]
     },
     "execution_count": 55,
     "metadata": {},
     "output_type": "execute_result"
    }
   ],
   "source": [
    "porter.stem('Rumman')"
   ]
  },
  {
   "cell_type": "code",
   "execution_count": null,
   "id": "999eca2e",
   "metadata": {},
   "outputs": [],
   "source": []
  },
  {
   "cell_type": "code",
   "execution_count": null,
   "id": "8b752453",
   "metadata": {},
   "outputs": [],
   "source": [
    "#lancas"
   ]
  },
  {
   "cell_type": "code",
   "execution_count": 57,
   "id": "cf8e5857",
   "metadata": {},
   "outputs": [
    {
     "data": {
      "text/plain": [
       "'comput'"
      ]
     },
     "execution_count": 57,
     "metadata": {},
     "output_type": "execute_result"
    }
   ],
   "source": [
    "lancas.stem('computer') "
   ]
  },
  {
   "cell_type": "code",
   "execution_count": null,
   "id": "9aee2ac6",
   "metadata": {},
   "outputs": [],
   "source": []
  },
  {
   "cell_type": "code",
   "execution_count": null,
   "id": "72879e07",
   "metadata": {},
   "outputs": [],
   "source": [
    "#snow "
   ]
  },
  {
   "cell_type": "code",
   "execution_count": 58,
   "id": "ed81fe0d",
   "metadata": {},
   "outputs": [
    {
     "data": {
      "text/plain": [
       "'run'"
      ]
     },
     "execution_count": 58,
     "metadata": {},
     "output_type": "execute_result"
    }
   ],
   "source": [
    "snow.stem('running')"
   ]
  },
  {
   "cell_type": "code",
   "execution_count": null,
   "id": "9bb62c7d",
   "metadata": {},
   "outputs": [],
   "source": []
  },
  {
   "cell_type": "code",
   "execution_count": 60,
   "id": "b46513a9",
   "metadata": {},
   "outputs": [],
   "source": [
    "from nltk.stem import WordNetLemmatizer"
   ]
  },
  {
   "cell_type": "code",
   "execution_count": 64,
   "id": "58cbfbf3",
   "metadata": {},
   "outputs": [
    {
     "name": "stderr",
     "output_type": "stream",
     "text": [
      "[nltk_data] Downloading package wordnet to\n",
      "[nltk_data]     C:\\Users\\rumma\\AppData\\Roaming\\nltk_data...\n",
      "[nltk_data]   Unzipping corpora\\wordnet.zip.\n"
     ]
    },
    {
     "data": {
      "text/plain": [
       "True"
      ]
     },
     "execution_count": 64,
     "metadata": {},
     "output_type": "execute_result"
    }
   ],
   "source": [
    "nltk.download('wordnet')"
   ]
  },
  {
   "cell_type": "code",
   "execution_count": 65,
   "id": "e9da61ab",
   "metadata": {},
   "outputs": [],
   "source": [
    "lemma = WordNetLemmatizer()"
   ]
  },
  {
   "cell_type": "code",
   "execution_count": 66,
   "id": "dcc114c7",
   "metadata": {},
   "outputs": [
    {
     "data": {
      "text/plain": [
       "'running'"
      ]
     },
     "execution_count": 66,
     "metadata": {},
     "output_type": "execute_result"
    }
   ],
   "source": [
    "lemma.lemmatize('running')"
   ]
  },
  {
   "cell_type": "code",
   "execution_count": 67,
   "id": "12100389",
   "metadata": {},
   "outputs": [
    {
     "data": {
      "text/plain": [
       "'run'"
      ]
     },
     "execution_count": 67,
     "metadata": {},
     "output_type": "execute_result"
    }
   ],
   "source": [
    "lemma.lemmatize('runs')"
   ]
  },
  {
   "cell_type": "code",
   "execution_count": 68,
   "id": "47ba3a0c",
   "metadata": {},
   "outputs": [
    {
     "data": {
      "text/plain": [
       "'run'"
      ]
     },
     "execution_count": 68,
     "metadata": {},
     "output_type": "execute_result"
    }
   ],
   "source": [
    "lemma.lemmatize('run')"
   ]
  },
  {
   "cell_type": "code",
   "execution_count": 73,
   "id": "7e40b088",
   "metadata": {},
   "outputs": [
    {
     "data": {
      "text/plain": [
       "'went'"
      ]
     },
     "execution_count": 73,
     "metadata": {},
     "output_type": "execute_result"
    }
   ],
   "source": [
    "lemma.lemmatize('went')"
   ]
  },
  {
   "cell_type": "code",
   "execution_count": 72,
   "id": "debd8b05",
   "metadata": {},
   "outputs": [
    {
     "data": {
      "text/plain": [
       "'go'"
      ]
     },
     "execution_count": 72,
     "metadata": {},
     "output_type": "execute_result"
    }
   ],
   "source": [
    "lemma.lemmatize('went' , pos = 'v')       #lemmatizer converts to the base word whether stemmer only chop off the words"
   ]
  },
  {
   "cell_type": "code",
   "execution_count": 70,
   "id": "f63fff38",
   "metadata": {},
   "outputs": [
    {
     "data": {
      "text/plain": [
       "'gone'"
      ]
     },
     "execution_count": 70,
     "metadata": {},
     "output_type": "execute_result"
    }
   ],
   "source": [
    "lemma.lemmatize('gone')"
   ]
  },
  {
   "cell_type": "code",
   "execution_count": 71,
   "id": "68cd0ed9",
   "metadata": {},
   "outputs": [
    {
     "data": {
      "text/plain": [
       "'go'"
      ]
     },
     "execution_count": 71,
     "metadata": {},
     "output_type": "execute_result"
    }
   ],
   "source": [
    "lemma.lemmatize('go')"
   ]
  },
  {
   "cell_type": "code",
   "execution_count": null,
   "id": "5b8ec8cc",
   "metadata": {},
   "outputs": [],
   "source": []
  }
 ],
 "metadata": {
  "kernelspec": {
   "display_name": "Python 3 (ipykernel)",
   "language": "python",
   "name": "python3"
  },
  "language_info": {
   "codemirror_mode": {
    "name": "ipython",
    "version": 3
   },
   "file_extension": ".py",
   "mimetype": "text/x-python",
   "name": "python",
   "nbconvert_exporter": "python",
   "pygments_lexer": "ipython3",
   "version": "3.9.7"
  }
 },
 "nbformat": 4,
 "nbformat_minor": 5
}
